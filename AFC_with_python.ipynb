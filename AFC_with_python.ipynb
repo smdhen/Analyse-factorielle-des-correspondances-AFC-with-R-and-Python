{
  "cells": [
    {
      "cell_type": "code",
      "execution_count": null,
      "metadata": {
        "id": "tmWPHxaOYUf4"
      },
      "outputs": [],
      "source": [
        "import pandas as pd\n",
        "!pip install fanalysis\n",
        "from fanalysis.ca import CA\n",
        "%matplotlib inline\n",
        "import numpy\n"
      ]
    },
    {
      "cell_type": "code",
      "execution_count": null,
      "metadata": {
        "id": "uAzEskU7ZBxf",
        "colab": {
          "base_uri": "https://localhost:8080/"
        },
        "outputId": "a6033ada-a300-4cae-878c-ddc6e8e755c2"
      },
      "outputs": [
        {
          "output_type": "stream",
          "name": "stdout",
          "text": [
            "                         Unnamed: 0    A00   B05      C      D      E    F45  \\\n",
            "0   Tanger -  Tetouan  - Al Hoceima  11891   840      0  28448   3778   6297   \n",
            "1                        L'Oriental   8185   175    569   3285   2846   5605   \n",
            "2                      Fs - Mekns  19672     0     14  10326   1106   5007   \n",
            "3           Rabat - Sal? - K?nitra   20128    70     11  13524   3342  12000   \n",
            "4          B?ni  Mellal - Kh?nifra   11727     0  15870   2509   1001   2629   \n",
            "5                Casablanca- Settat  19148   240    142  95044  14043  14726   \n",
            "6                  Marrakech - Safi  15201   439   5221   5600   1098   5239   \n",
            "7                   Dr?a- Tafilalet   5703     0   1960    126    134   1815   \n",
            "8                    Souss - Massa   11734  2106    300  10139    240   2988   \n",
            "9               Guelmim - Oued Noun    483  1154      0    605    138    945   \n",
            "10        La?youne - Sakia El Hamra    165  2396   1368   2683     55   1700   \n",
            "11          Dakhla - Oued Ed-Dahab      46  3916      0    464    123    736   \n",
            "\n",
            "      G00   H55    I00    J00    k00    L75    MNO    OP   I-S/Pt  \n",
            "0   12514  2790   3814   1765  14604   8983   8983  1535    15558  \n",
            "1    3280  1028   3330   1096   5705   5886   5386   409     8126  \n",
            "2    7214  2683   2940   2179   9753   7550  10356  1491    13117  \n",
            "3    9933  2535  17211   8507  21587  29585  12690  2971    18643  \n",
            "4    3714   849   1371    502   4872   4320   6293   759     6571  \n",
            "5   31789  5921  26660  32503  39786  15822  16307  3851    41422  \n",
            "6    8177  7444   3156   1987  10580   5749   8820  1734    12706  \n",
            "7    1190  1050   1528    160   3084   2774   4392   524     3591  \n",
            "8    7146  4161   3003   1799   8600   5582   7169   725     8906  \n",
            "9     846   132    546     62   1731   5612   2010   183     1527  \n",
            "10   1412   170    553    251   1813   4363   1813   241      151  \n",
            "11    596    45    312     61   1122   5855    682    69      129  \n"
          ]
        }
      ],
      "source": [
        "df=pd.read_csv(\"/content/data.csv\",delimiter=';')\n",
        "#pd.set_option('display.max_columns', None)\n",
        "print(df)"
      ]
    },
    {
      "cell_type": "code",
      "source": [],
      "metadata": {
        "id": "B-ukX58oC_oc"
      },
      "execution_count": null,
      "outputs": []
    },
    {
      "cell_type": "code",
      "execution_count": null,
      "metadata": {
        "colab": {
          "base_uri": "https://localhost:8080/"
        },
        "id": "dymaJ82KZZuI",
        "outputId": "016194af-7e23-409d-e39e-dfa229913470"
      },
      "outputs": [
        {
          "output_type": "execute_result",
          "data": {
            "text/plain": [
              "array([[11891,   840,     0, 28448,  3778,  6297, 12514,  2790,  3814,\n",
              "         1765, 14604,  8983,  8983,  1535, 15558],\n",
              "       [ 8185,   175,   569,  3285,  2846,  5605,  3280,  1028,  3330,\n",
              "         1096,  5705,  5886,  5386,   409,  8126],\n",
              "       [19672,     0,    14, 10326,  1106,  5007,  7214,  2683,  2940,\n",
              "         2179,  9753,  7550, 10356,  1491, 13117],\n",
              "       [20128,    70,    11, 13524,  3342, 12000,  9933,  2535, 17211,\n",
              "         8507, 21587, 29585, 12690,  2971, 18643],\n",
              "       [11727,     0, 15870,  2509,  1001,  2629,  3714,   849,  1371,\n",
              "          502,  4872,  4320,  6293,   759,  6571],\n",
              "       [19148,   240,   142, 95044, 14043, 14726, 31789,  5921, 26660,\n",
              "        32503, 39786, 15822, 16307,  3851, 41422],\n",
              "       [15201,   439,  5221,  5600,  1098,  5239,  8177,  7444,  3156,\n",
              "         1987, 10580,  5749,  8820,  1734, 12706],\n",
              "       [ 5703,     0,  1960,   126,   134,  1815,  1190,  1050,  1528,\n",
              "          160,  3084,  2774,  4392,   524,  3591],\n",
              "       [11734,  2106,   300, 10139,   240,  2988,  7146,  4161,  3003,\n",
              "         1799,  8600,  5582,  7169,   725,  8906],\n",
              "       [  483,  1154,     0,   605,   138,   945,   846,   132,   546,\n",
              "           62,  1731,  5612,  2010,   183,  1527],\n",
              "       [  165,  2396,  1368,  2683,    55,  1700,  1412,   170,   553,\n",
              "          251,  1813,  4363,  1813,   241,   151],\n",
              "       [   46,  3916,     0,   464,   123,   736,   596,    45,   312,\n",
              "           61,  1122,  5855,   682,    69,   129]])"
            ]
          },
          "metadata": {},
          "execution_count": 4
        }
      ],
      "source": [
        "\n",
        "a=df[[\"A00\",\"B05\",\"C\",\"D\",\"E\",\"F45\",\"G00\",\" H55\",\"I00\",\"J00\",\"k00\",\"L75\",\"MNO\",\"OP\",\" I-S/Pt\"]]\n",
        "X1 = a.to_numpy()\n",
        "X1"
      ]
    },
    {
      "cell_type": "code",
      "execution_count": null,
      "metadata": {
        "id": "2uWHEUvrsFf3",
        "colab": {
          "base_uri": "https://localhost:8080/",
          "height": 364
        },
        "outputId": "2a34c598-23f5-48d1-aec0-9faaccc7b0e6"
      },
      "outputs": [
        {
          "output_type": "execute_result",
          "data": {
            "text/html": [
              "\n",
              "  <div id=\"df-06112fe5-3f13-4fa9-9db9-e97429c9d976\">\n",
              "    <div class=\"colab-df-container\">\n",
              "      <div>\n",
              "<style scoped>\n",
              "    .dataframe tbody tr th:only-of-type {\n",
              "        vertical-align: middle;\n",
              "    }\n",
              "\n",
              "    .dataframe tbody tr th {\n",
              "        vertical-align: top;\n",
              "    }\n",
              "\n",
              "    .dataframe thead th {\n",
              "        text-align: right;\n",
              "    }\n",
              "</style>\n",
              "<table border=\"1\" class=\"dataframe\">\n",
              "  <thead>\n",
              "    <tr style=\"text-align: right;\">\n",
              "      <th></th>\n",
              "      <th>A00</th>\n",
              "      <th>B05</th>\n",
              "      <th>C</th>\n",
              "      <th>D</th>\n",
              "      <th>E</th>\n",
              "      <th>F45</th>\n",
              "      <th>G00</th>\n",
              "      <th>H55</th>\n",
              "      <th>I00</th>\n",
              "      <th>J00</th>\n",
              "      <th>k00</th>\n",
              "      <th>L75</th>\n",
              "      <th>MNO</th>\n",
              "      <th>OP</th>\n",
              "      <th>I-S/Pt</th>\n",
              "    </tr>\n",
              "  </thead>\n",
              "  <tbody>\n",
              "    <tr>\n",
              "      <th>count</th>\n",
              "      <td>12.000000</td>\n",
              "      <td>12.000000</td>\n",
              "      <td>12.00000</td>\n",
              "      <td>12.000000</td>\n",
              "      <td>12.000000</td>\n",
              "      <td>12.000000</td>\n",
              "      <td>12.000000</td>\n",
              "      <td>12.000000</td>\n",
              "      <td>12.000000</td>\n",
              "      <td>12.000000</td>\n",
              "      <td>12.000000</td>\n",
              "      <td>12.000000</td>\n",
              "      <td>12.000000</td>\n",
              "      <td>12.000000</td>\n",
              "      <td>12.000000</td>\n",
              "    </tr>\n",
              "    <tr>\n",
              "      <th>mean</th>\n",
              "      <td>10340.250000</td>\n",
              "      <td>944.666667</td>\n",
              "      <td>2121.25000</td>\n",
              "      <td>14396.083333</td>\n",
              "      <td>2325.333333</td>\n",
              "      <td>4973.916667</td>\n",
              "      <td>7317.583333</td>\n",
              "      <td>2400.666667</td>\n",
              "      <td>5368.666667</td>\n",
              "      <td>4239.333333</td>\n",
              "      <td>10269.750000</td>\n",
              "      <td>8506.750000</td>\n",
              "      <td>7075.083333</td>\n",
              "      <td>1207.666667</td>\n",
              "      <td>10870.583333</td>\n",
              "    </tr>\n",
              "    <tr>\n",
              "      <th>std</th>\n",
              "      <td>7526.784067</td>\n",
              "      <td>1247.744462</td>\n",
              "      <td>4585.21922</td>\n",
              "      <td>26636.014957</td>\n",
              "      <td>3924.344840</td>\n",
              "      <td>4379.923691</td>\n",
              "      <td>8645.778312</td>\n",
              "      <td>2392.490917</td>\n",
              "      <td>8086.331198</td>\n",
              "      <td>9193.613963</td>\n",
              "      <td>11082.098949</td>\n",
              "      <td>7415.896233</td>\n",
              "      <td>4662.162851</td>\n",
              "      <td>1182.504763</td>\n",
              "      <td>11380.410773</td>\n",
              "    </tr>\n",
              "    <tr>\n",
              "      <th>min</th>\n",
              "      <td>46.000000</td>\n",
              "      <td>0.000000</td>\n",
              "      <td>0.00000</td>\n",
              "      <td>126.000000</td>\n",
              "      <td>55.000000</td>\n",
              "      <td>736.000000</td>\n",
              "      <td>596.000000</td>\n",
              "      <td>45.000000</td>\n",
              "      <td>312.000000</td>\n",
              "      <td>61.000000</td>\n",
              "      <td>1122.000000</td>\n",
              "      <td>2774.000000</td>\n",
              "      <td>682.000000</td>\n",
              "      <td>69.000000</td>\n",
              "      <td>129.000000</td>\n",
              "    </tr>\n",
              "    <tr>\n",
              "      <th>25%</th>\n",
              "      <td>4398.000000</td>\n",
              "      <td>52.500000</td>\n",
              "      <td>8.25000</td>\n",
              "      <td>2033.000000</td>\n",
              "      <td>137.000000</td>\n",
              "      <td>1786.250000</td>\n",
              "      <td>1356.500000</td>\n",
              "      <td>679.250000</td>\n",
              "      <td>1166.500000</td>\n",
              "      <td>228.250000</td>\n",
              "      <td>2766.250000</td>\n",
              "      <td>5277.250000</td>\n",
              "      <td>3796.500000</td>\n",
              "      <td>367.000000</td>\n",
              "      <td>3075.000000</td>\n",
              "    </tr>\n",
              "    <tr>\n",
              "      <th>50%</th>\n",
              "      <td>11730.500000</td>\n",
              "      <td>339.500000</td>\n",
              "      <td>221.00000</td>\n",
              "      <td>4442.500000</td>\n",
              "      <td>1049.500000</td>\n",
              "      <td>3997.500000</td>\n",
              "      <td>5430.000000</td>\n",
              "      <td>1792.500000</td>\n",
              "      <td>2971.500000</td>\n",
              "      <td>1430.500000</td>\n",
              "      <td>7152.500000</td>\n",
              "      <td>5802.000000</td>\n",
              "      <td>6731.000000</td>\n",
              "      <td>742.000000</td>\n",
              "      <td>8516.000000</td>\n",
              "    </tr>\n",
              "    <tr>\n",
              "      <th>75%</th>\n",
              "      <td>16187.750000</td>\n",
              "      <td>1392.000000</td>\n",
              "      <td>1516.00000</td>\n",
              "      <td>11125.500000</td>\n",
              "      <td>2970.000000</td>\n",
              "      <td>5778.000000</td>\n",
              "      <td>8616.000000</td>\n",
              "      <td>3132.750000</td>\n",
              "      <td>3451.000000</td>\n",
              "      <td>2035.000000</td>\n",
              "      <td>11586.000000</td>\n",
              "      <td>7908.250000</td>\n",
              "      <td>9326.250000</td>\n",
              "      <td>1584.750000</td>\n",
              "      <td>13727.250000</td>\n",
              "    </tr>\n",
              "    <tr>\n",
              "      <th>max</th>\n",
              "      <td>20128.000000</td>\n",
              "      <td>3916.000000</td>\n",
              "      <td>15870.00000</td>\n",
              "      <td>95044.000000</td>\n",
              "      <td>14043.000000</td>\n",
              "      <td>14726.000000</td>\n",
              "      <td>31789.000000</td>\n",
              "      <td>7444.000000</td>\n",
              "      <td>26660.000000</td>\n",
              "      <td>32503.000000</td>\n",
              "      <td>39786.000000</td>\n",
              "      <td>29585.000000</td>\n",
              "      <td>16307.000000</td>\n",
              "      <td>3851.000000</td>\n",
              "      <td>41422.000000</td>\n",
              "    </tr>\n",
              "  </tbody>\n",
              "</table>\n",
              "</div>\n",
              "      <button class=\"colab-df-convert\" onclick=\"convertToInteractive('df-06112fe5-3f13-4fa9-9db9-e97429c9d976')\"\n",
              "              title=\"Convert this dataframe to an interactive table.\"\n",
              "              style=\"display:none;\">\n",
              "        \n",
              "  <svg xmlns=\"http://www.w3.org/2000/svg\" height=\"24px\"viewBox=\"0 0 24 24\"\n",
              "       width=\"24px\">\n",
              "    <path d=\"M0 0h24v24H0V0z\" fill=\"none\"/>\n",
              "    <path d=\"M18.56 5.44l.94 2.06.94-2.06 2.06-.94-2.06-.94-.94-2.06-.94 2.06-2.06.94zm-11 1L8.5 8.5l.94-2.06 2.06-.94-2.06-.94L8.5 2.5l-.94 2.06-2.06.94zm10 10l.94 2.06.94-2.06 2.06-.94-2.06-.94-.94-2.06-.94 2.06-2.06.94z\"/><path d=\"M17.41 7.96l-1.37-1.37c-.4-.4-.92-.59-1.43-.59-.52 0-1.04.2-1.43.59L10.3 9.45l-7.72 7.72c-.78.78-.78 2.05 0 2.83L4 21.41c.39.39.9.59 1.41.59.51 0 1.02-.2 1.41-.59l7.78-7.78 2.81-2.81c.8-.78.8-2.07 0-2.86zM5.41 20L4 18.59l7.72-7.72 1.47 1.35L5.41 20z\"/>\n",
              "  </svg>\n",
              "      </button>\n",
              "      \n",
              "  <style>\n",
              "    .colab-df-container {\n",
              "      display:flex;\n",
              "      flex-wrap:wrap;\n",
              "      gap: 12px;\n",
              "    }\n",
              "\n",
              "    .colab-df-convert {\n",
              "      background-color: #E8F0FE;\n",
              "      border: none;\n",
              "      border-radius: 50%;\n",
              "      cursor: pointer;\n",
              "      display: none;\n",
              "      fill: #1967D2;\n",
              "      height: 32px;\n",
              "      padding: 0 0 0 0;\n",
              "      width: 32px;\n",
              "    }\n",
              "\n",
              "    .colab-df-convert:hover {\n",
              "      background-color: #E2EBFA;\n",
              "      box-shadow: 0px 1px 2px rgba(60, 64, 67, 0.3), 0px 1px 3px 1px rgba(60, 64, 67, 0.15);\n",
              "      fill: #174EA6;\n",
              "    }\n",
              "\n",
              "    [theme=dark] .colab-df-convert {\n",
              "      background-color: #3B4455;\n",
              "      fill: #D2E3FC;\n",
              "    }\n",
              "\n",
              "    [theme=dark] .colab-df-convert:hover {\n",
              "      background-color: #434B5C;\n",
              "      box-shadow: 0px 1px 3px 1px rgba(0, 0, 0, 0.15);\n",
              "      filter: drop-shadow(0px 1px 2px rgba(0, 0, 0, 0.3));\n",
              "      fill: #FFFFFF;\n",
              "    }\n",
              "  </style>\n",
              "\n",
              "      <script>\n",
              "        const buttonEl =\n",
              "          document.querySelector('#df-06112fe5-3f13-4fa9-9db9-e97429c9d976 button.colab-df-convert');\n",
              "        buttonEl.style.display =\n",
              "          google.colab.kernel.accessAllowed ? 'block' : 'none';\n",
              "\n",
              "        async function convertToInteractive(key) {\n",
              "          const element = document.querySelector('#df-06112fe5-3f13-4fa9-9db9-e97429c9d976');\n",
              "          const dataTable =\n",
              "            await google.colab.kernel.invokeFunction('convertToInteractive',\n",
              "                                                     [key], {});\n",
              "          if (!dataTable) return;\n",
              "\n",
              "          const docLinkHtml = 'Like what you see? Visit the ' +\n",
              "            '<a target=\"_blank\" href=https://colab.research.google.com/notebooks/data_table.ipynb>data table notebook</a>'\n",
              "            + ' to learn more about interactive tables.';\n",
              "          element.innerHTML = '';\n",
              "          dataTable['output_type'] = 'display_data';\n",
              "          await google.colab.output.renderOutput(dataTable, element);\n",
              "          const docLink = document.createElement('div');\n",
              "          docLink.innerHTML = docLinkHtml;\n",
              "          element.appendChild(docLink);\n",
              "        }\n",
              "      </script>\n",
              "    </div>\n",
              "  </div>\n",
              "  "
            ],
            "text/plain": [
              "                A00          B05            C             D             E  \\\n",
              "count     12.000000    12.000000     12.00000     12.000000     12.000000   \n",
              "mean   10340.250000   944.666667   2121.25000  14396.083333   2325.333333   \n",
              "std     7526.784067  1247.744462   4585.21922  26636.014957   3924.344840   \n",
              "min       46.000000     0.000000      0.00000    126.000000     55.000000   \n",
              "25%     4398.000000    52.500000      8.25000   2033.000000    137.000000   \n",
              "50%    11730.500000   339.500000    221.00000   4442.500000   1049.500000   \n",
              "75%    16187.750000  1392.000000   1516.00000  11125.500000   2970.000000   \n",
              "max    20128.000000  3916.000000  15870.00000  95044.000000  14043.000000   \n",
              "\n",
              "                F45           G00          H55           I00           J00  \\\n",
              "count     12.000000     12.000000    12.000000     12.000000     12.000000   \n",
              "mean    4973.916667   7317.583333  2400.666667   5368.666667   4239.333333   \n",
              "std     4379.923691   8645.778312  2392.490917   8086.331198   9193.613963   \n",
              "min      736.000000    596.000000    45.000000    312.000000     61.000000   \n",
              "25%     1786.250000   1356.500000   679.250000   1166.500000    228.250000   \n",
              "50%     3997.500000   5430.000000  1792.500000   2971.500000   1430.500000   \n",
              "75%     5778.000000   8616.000000  3132.750000   3451.000000   2035.000000   \n",
              "max    14726.000000  31789.000000  7444.000000  26660.000000  32503.000000   \n",
              "\n",
              "                k00           L75           MNO           OP        I-S/Pt  \n",
              "count     12.000000     12.000000     12.000000    12.000000     12.000000  \n",
              "mean   10269.750000   8506.750000   7075.083333  1207.666667  10870.583333  \n",
              "std    11082.098949   7415.896233   4662.162851  1182.504763  11380.410773  \n",
              "min     1122.000000   2774.000000    682.000000    69.000000    129.000000  \n",
              "25%     2766.250000   5277.250000   3796.500000   367.000000   3075.000000  \n",
              "50%     7152.500000   5802.000000   6731.000000   742.000000   8516.000000  \n",
              "75%    11586.000000   7908.250000   9326.250000  1584.750000  13727.250000  \n",
              "max    39786.000000  29585.000000  16307.000000  3851.000000  41422.000000  "
            ]
          },
          "metadata": {},
          "execution_count": 5
        }
      ],
      "source": [
        "df.describe()"
      ]
    },
    {
      "cell_type": "code",
      "execution_count": null,
      "metadata": {
        "colab": {
          "base_uri": "https://localhost:8080/"
        },
        "id": "8wjFrMq0rhmV",
        "outputId": "0617e0d4-174a-4635-8a7d-0dde28833531"
      },
      "outputs": [
        {
          "output_type": "execute_result",
          "data": {
            "text/plain": [
              "(551841.1312620564, 154, 0.0)"
            ]
          },
          "metadata": {},
          "execution_count": 6
        }
      ],
      "source": [
        "# test de khi-2\n",
        "\n",
        "\n",
        "from scipy.stats import chi2_contingency\n",
        "chi2, pvalue, degrees ,expected= chi2_contingency(a)\n",
        "chi2, degrees, pvalue\n"
      ]
    },
    {
      "cell_type": "code",
      "execution_count": null,
      "metadata": {
        "id": "1Wf8g_t0apQt",
        "colab": {
          "base_uri": "https://localhost:8080/"
        },
        "outputId": "4759135a-978a-48e1-c608-9b0001cf4b79"
      },
      "outputs": [
        {
          "output_type": "execute_result",
          "data": {
            "text/plain": [
              "CA()"
            ]
          },
          "metadata": {},
          "execution_count": 7
        }
      ],
      "source": [
        "my_ca = CA()\n",
        "my_ca.fit(X1)"
      ]
    },
    {
      "cell_type": "code",
      "execution_count": null,
      "metadata": {
        "colab": {
          "base_uri": "https://localhost:8080/"
        },
        "id": "9yw1dLrybvXy",
        "outputId": "72a986fa-5a3e-485a-89e6-db65c0396a76"
      },
      "outputs": [
        {
          "output_type": "stream",
          "name": "stdout",
          "text": [
            "[[1.99429847e-01 1.65950066e-01 7.34474381e-02 3.44650411e-02\n",
            "  1.04565560e-02 5.47954871e-03 5.00628555e-03 1.54994964e-03\n",
            "  1.38256569e-03 4.96619452e-04 2.56873743e-04]\n",
            " [4.00525245e+01 3.33286075e+01 1.47508277e+01 6.92179192e+00\n",
            "  2.10004407e+00 1.10048602e+00 1.00543814e+00 3.11284379e-01\n",
            "  2.77667798e-01 9.97386453e-02 5.15892784e-02]\n",
            " [4.00525245e+01 7.33811320e+01 8.81319597e+01 9.50537517e+01\n",
            "  9.71537957e+01 9.82542818e+01 9.92597199e+01 9.95710043e+01\n",
            "  9.98486721e+01 9.99484107e+01 1.00000000e+02]]\n"
          ]
        }
      ],
      "source": [
        "print(my_ca.eig_)"
      ]
    },
    {
      "cell_type": "code",
      "execution_count": null,
      "metadata": {
        "id": "9M1zIP76mmK6"
      },
      "outputs": [],
      "source": []
    },
    {
      "cell_type": "code",
      "execution_count": null,
      "metadata": {
        "id": "bobi53O7b6Vb"
      },
      "outputs": [],
      "source": [
        "# my_ca.plot_eigenvalues()"
      ]
    },
    {
      "cell_type": "code",
      "execution_count": null,
      "metadata": {
        "id": "S5QBlVEUcDlX",
        "colab": {
          "base_uri": "https://localhost:8080/",
          "height": 295
        },
        "outputId": "ac628ff0-61f4-4ef9-b702-ac9b2e4c7795"
      },
      "outputs": [
        {
          "output_type": "display_data",
          "data": {
            "image/png": "[encoded data removed]",
            "text/plain": [
              "<Figure size 432x288 with 1 Axes>"
            ]
          },
          "metadata": {
            "needs_background": "light"
          }
        }
      ],
      "source": [
        "my_ca.plot_eigenvalues(type=\"percentage\")"
      ]
    },
    {
      "cell_type": "code",
      "execution_count": null,
      "metadata": {
        "id": "LkgB11JNcVyf"
      },
      "outputs": [],
      "source": [
        "# my_ca.plot_eigenvalues(type=\"cumulative\")"
      ]
    },
    {
      "cell_type": "code",
      "execution_count": null,
      "metadata": {
        "id": "0lwf7iTTeMZx"
      },
      "outputs": [],
      "source": []
    },
    {
      "cell_type": "code",
      "execution_count": null,
      "metadata": {
        "id": "J6GpD-FQh4u_",
        "colab": {
          "base_uri": "https://localhost:8080/"
        },
        "outputId": "a8cf15fe-95be-4645-e669-d30efc6b440d"
      },
      "outputs": [
        {
          "output_type": "stream",
          "name": "stdout",
          "text": [
            "[[1.91234987e+00 4.46295149e-03 6.66455027e-02 8.86075416e+00\n",
            "  4.06996205e+01 1.60997047e+01 2.61909696e+00 3.52803512e+00\n",
            "  7.22948728e+00 1.56780812e+00 6.42214140e+00]\n",
            " [1.55346455e-01 8.41811787e-06 5.96020901e+00 1.44231690e+00\n",
            "  7.10050692e+00 2.97500670e+01 4.18207269e+01 3.66745448e-01\n",
            "  2.01337993e-01 7.41420363e-01 7.50674945e+00]\n",
            " [6.64186612e-02 3.35392596e-01 1.37366600e+01 6.36277045e+00\n",
            "  5.91592853e+00 1.11265212e+01 2.60414409e+01 3.62719038e-02\n",
            "  2.49893365e+00 2.54167427e+01 3.48080216e-02]\n",
            " [9.52722389e-02 1.17586730e+00 1.54272735e+01 4.44289202e+01\n",
            "  2.78699537e+00 3.42885068e+00 1.79581152e+00 1.97604189e+00\n",
            "  1.32612981e+01 4.98847412e-03 3.27921375e-02]\n",
            " [5.48950942e+01 1.24995859e+01 1.64254702e+01 2.71708532e+00\n",
            "  1.54577976e+00 1.41032887e-01 1.48017488e+00 3.24251427e+00\n",
            "  1.70795307e-02 1.76526703e-01 1.17640162e+00]\n",
            " [2.66322382e+01 2.28284749e+00 2.74109364e+01 7.01469327e-01\n",
            "  3.71125167e+00 2.16795328e+00 1.20961414e-01 4.66336949e-01\n",
            "  4.17713048e+00 4.36690290e-03 7.62987224e-02]\n",
            " [5.18901613e+00 1.58383748e+00 4.13430744e+00 1.30052632e+01\n",
            "  2.90335200e+01 5.99845541e+00 1.83317793e+01 1.43061858e+00\n",
            "  8.44256573e-01 8.53619655e+00 3.50782678e+00]\n",
            " [3.96036929e+00 4.40358083e-01 4.08363344e+00 2.03950573e-03\n",
            "  6.01009040e-02 1.05465325e+00 1.13514629e+00 2.94742668e+01\n",
            "  2.87678960e+00 2.23960848e+01 3.19873486e+01]\n",
            " [7.62363076e-02 8.13821283e-01 2.13734800e+00 1.81058052e+01\n",
            "  4.44420939e+00 2.58966830e-01 5.93348358e+00 2.32482627e-01\n",
            "  2.57370852e+00 2.48352462e+01 3.38577883e+01]\n",
            " [6.90679915e-01 8.92105734e+00 8.02764693e-01 3.40149478e+00\n",
            "  3.26671455e+00 1.80068932e+01 2.70074163e-02 2.18818791e-03\n",
            "  5.82256048e+01 1.12508946e-01 5.10176806e+00]\n",
            " [3.00228497e+00 1.30008228e+01 5.44997619e+00 1.66421318e-02\n",
            "  4.34691902e-01 2.47839025e+00 5.82626449e-01 4.69289263e+01\n",
            "  8.05536221e+00 1.54329630e+01 2.89087195e+00]\n",
            " [3.32469369e+00 5.89419384e+01 4.36477567e+00 9.55438742e-01\n",
            "  1.00068048e+00 9.48851142e+00 1.11744413e-01 1.23155720e+01\n",
            "  3.90112682e-02 7.75147223e-01 7.40520488e+00]]\n"
          ]
        }
      ],
      "source": [
        "# Contributions des points colonnes\n",
        "print(my_ca.row_contrib_)"
      ]
    },
    {
      "cell_type": "code",
      "execution_count": null,
      "metadata": {
        "id": "yBdZ_o_gmGYy",
        "colab": {
          "base_uri": "https://localhost:8080/",
          "height": 295
        },
        "outputId": "1b8bc4f0-9c39-4df9-ba91-49214f649320"
      },
      "outputs": [
        {
          "output_type": "display_data",
          "data": {
            "image/png": "[encoded data removed]",
            "text/plain": [
              "<Figure size 432x288 with 1 Axes>"
            ]
          },
          "metadata": {
            "needs_background": "light"
          }
        }
      ],
      "source": [
        "my_ca.plot_row_contrib(num_axis=1)"
      ]
    },
    {
      "cell_type": "code",
      "execution_count": null,
      "metadata": {
        "id": "Pzles6FBnolG"
      },
      "outputs": [],
      "source": [
        "print(my_ca.row_cos2_)"
      ]
    },
    {
      "cell_type": "code",
      "execution_count": null,
      "metadata": {
        "id": "Bb2BYALdn6E2"
      },
      "outputs": [],
      "source": [
        "my_ca.plot_row_cos2(num_axis=1)"
      ]
    },
    {
      "cell_type": "code",
      "execution_count": null,
      "metadata": {
        "id": "vrQpfSMWpdPr"
      },
      "outputs": [],
      "source": [
        "print(my_ca.col_contrib_)"
      ]
    },
    {
      "cell_type": "code",
      "execution_count": null,
      "metadata": {
        "id": "O03GD-pLpdns"
      },
      "outputs": [],
      "source": [
        "my_ca.plot_col_contrib(num_axis=1)"
      ]
    },
    {
      "cell_type": "code",
      "execution_count": null,
      "metadata": {
        "id": "aaetfIinoLXf"
      },
      "outputs": [],
      "source": [
        "#print(my_ca.col_cos2_)"
      ]
    },
    {
      "cell_type": "code",
      "execution_count": null,
      "metadata": {
        "id": "6jB3v1-eoLwU"
      },
      "outputs": [],
      "source": [
        "my_ca.plot_col_cos2(num_axis=1)"
      ]
    },
    {
      "cell_type": "code",
      "execution_count": null,
      "metadata": {
        "id": "Gq3FLjTrqu5D"
      },
      "outputs": [],
      "source": [
        "my_ca.mapping_row(num_x_axis=1, num_y_axis=2,figsize=(16, 14))"
      ]
    },
    {
      "cell_type": "code",
      "execution_count": null,
      "metadata": {
        "id": "27Yeishzqt6H"
      },
      "outputs": [],
      "source": [
        "my_ca.mapping_col(num_x_axis=1, num_y_axis=2,figsize=(16, 14))"
      ]
    },
    {
      "cell_type": "code",
      "execution_count": null,
      "metadata": {
        "id": "DVYHknUmqs2x"
      },
      "outputs": [],
      "source": [
        "my_ca.mapping(1, 2, figsize=(16, 14))"
      ]
    },
    {
      "cell_type": "code",
      "execution_count": null,
      "metadata": {
        "id": "pxciNrMEGCH0"
      },
      "outputs": [],
      "source": [
        "import numpy as np\n",
        "import pandas as pd\n",
        "import matplotlib.pyplot as plt\n"
      ]
    },
    {
      "cell_type": "code",
      "execution_count": null,
      "metadata": {
        "colab": {
          "base_uri": "https://localhost:8080/",
          "height": 206
        },
        "id": "czdhh-ugTyFn",
        "outputId": "3e04ef70-e7c4-4728-9ff5-e19aee556641"
      },
      "outputs": [
        {
          "data": {
            "text/html": [
              "\n",
              "  <div id=\"df-82475a80-111a-4ead-8eb5-b69f9b6dca85\">\n",
              "    <div class=\"colab-df-container\">\n",
              "      <div>\n",
              "<style scoped>\n",
              "    .dataframe tbody tr th:only-of-type {\n",
              "        vertical-align: middle;\n",
              "    }\n",
              "\n",
              "    .dataframe tbody tr th {\n",
              "        vertical-align: top;\n",
              "    }\n",
              "\n",
              "    .dataframe thead th {\n",
              "        text-align: right;\n",
              "    }\n",
              "</style>\n",
              "<table border=\"1\" class=\"dataframe\">\n",
              "  <thead>\n",
              "    <tr style=\"text-align: right;\">\n",
              "      <th></th>\n",
              "      <th>Unnamed: 0</th>\n",
              "      <th>A00</th>\n",
              "      <th>B05</th>\n",
              "      <th>C</th>\n",
              "      <th>D</th>\n",
              "      <th>E</th>\n",
              "      <th>F45</th>\n",
              "      <th>G00</th>\n",
              "      <th>H55</th>\n",
              "      <th>I00</th>\n",
              "      <th>J00</th>\n",
              "      <th>k00</th>\n",
              "      <th>L75</th>\n",
              "      <th>MNO</th>\n",
              "      <th>OP</th>\n",
              "      <th>I-S/Pt</th>\n",
              "    </tr>\n",
              "  </thead>\n",
              "  <tbody>\n",
              "    <tr>\n",
              "      <th>0</th>\n",
              "      <td>Tanger -  Tetouan  - Al Hoceima</td>\n",
              "      <td>11891</td>\n",
              "      <td>840</td>\n",
              "      <td>0</td>\n",
              "      <td>28448</td>\n",
              "      <td>3778</td>\n",
              "      <td>6297</td>\n",
              "      <td>12514</td>\n",
              "      <td>2790</td>\n",
              "      <td>3814</td>\n",
              "      <td>1765</td>\n",
              "      <td>14604</td>\n",
              "      <td>8983</td>\n",
              "      <td>8983</td>\n",
              "      <td>1535</td>\n",
              "      <td>15558</td>\n",
              "    </tr>\n",
              "    <tr>\n",
              "      <th>1</th>\n",
              "      <td>L'Oriental</td>\n",
              "      <td>8185</td>\n",
              "      <td>175</td>\n",
              "      <td>569</td>\n",
              "      <td>3285</td>\n",
              "      <td>2846</td>\n",
              "      <td>5605</td>\n",
              "      <td>3280</td>\n",
              "      <td>1028</td>\n",
              "      <td>3330</td>\n",
              "      <td>1096</td>\n",
              "      <td>5705</td>\n",
              "      <td>5886</td>\n",
              "      <td>5386</td>\n",
              "      <td>409</td>\n",
              "      <td>8126</td>\n",
              "    </tr>\n",
              "    <tr>\n",
              "      <th>2</th>\n",
              "      <td>Fs - Mekns</td>\n",
              "      <td>19672</td>\n",
              "      <td>0</td>\n",
              "      <td>14</td>\n",
              "      <td>10326</td>\n",
              "      <td>1106</td>\n",
              "      <td>5007</td>\n",
              "      <td>7214</td>\n",
              "      <td>2683</td>\n",
              "      <td>2940</td>\n",
              "      <td>2179</td>\n",
              "      <td>9753</td>\n",
              "      <td>7550</td>\n",
              "      <td>10356</td>\n",
              "      <td>1491</td>\n",
              "      <td>13117</td>\n",
              "    </tr>\n",
              "    <tr>\n",
              "      <th>3</th>\n",
              "      <td>Rabat - Sal? - K?nitra</td>\n",
              "      <td>20128</td>\n",
              "      <td>70</td>\n",
              "      <td>11</td>\n",
              "      <td>13524</td>\n",
              "      <td>3342</td>\n",
              "      <td>12000</td>\n",
              "      <td>9933</td>\n",
              "      <td>2535</td>\n",
              "      <td>17211</td>\n",
              "      <td>8507</td>\n",
              "      <td>21587</td>\n",
              "      <td>29585</td>\n",
              "      <td>12690</td>\n",
              "      <td>2971</td>\n",
              "      <td>18643</td>\n",
              "    </tr>\n",
              "    <tr>\n",
              "      <th>4</th>\n",
              "      <td>B?ni  Mellal - Kh?nifra</td>\n",
              "      <td>11727</td>\n",
              "      <td>0</td>\n",
              "      <td>15870</td>\n",
              "      <td>2509</td>\n",
              "      <td>1001</td>\n",
              "      <td>2629</td>\n",
              "      <td>3714</td>\n",
              "      <td>849</td>\n",
              "      <td>1371</td>\n",
              "      <td>502</td>\n",
              "      <td>4872</td>\n",
              "      <td>4320</td>\n",
              "      <td>6293</td>\n",
              "      <td>759</td>\n",
              "      <td>6571</td>\n",
              "    </tr>\n",
              "  </tbody>\n",
              "</table>\n",
              "</div>\n",
              "      <button class=\"colab-df-convert\" onclick=\"convertToInteractive('df-82475a80-111a-4ead-8eb5-b69f9b6dca85')\"\n",
              "              title=\"Convert this dataframe to an interactive table.\"\n",
              "              style=\"display:none;\">\n",
              "        \n",
              "  <svg xmlns=\"http://www.w3.org/2000/svg\" height=\"24px\"viewBox=\"0 0 24 24\"\n",
              "       width=\"24px\">\n",
              "    <path d=\"M0 0h24v24H0V0z\" fill=\"none\"/>\n",
              "    <path d=\"M18.56 5.44l.94 2.06.94-2.06 2.06-.94-2.06-.94-.94-2.06-.94 2.06-2.06.94zm-11 1L8.5 8.5l.94-2.06 2.06-.94-2.06-.94L8.5 2.5l-.94 2.06-2.06.94zm10 10l.94 2.06.94-2.06 2.06-.94-2.06-.94-.94-2.06-.94 2.06-2.06.94z\"/><path d=\"M17.41 7.96l-1.37-1.37c-.4-.4-.92-.59-1.43-.59-.52 0-1.04.2-1.43.59L10.3 9.45l-7.72 7.72c-.78.78-.78 2.05 0 2.83L4 21.41c.39.39.9.59 1.41.59.51 0 1.02-.2 1.41-.59l7.78-7.78 2.81-2.81c.8-.78.8-2.07 0-2.86zM5.41 20L4 18.59l7.72-7.72 1.47 1.35L5.41 20z\"/>\n",
              "  </svg>\n",
              "      </button>\n",
              "      \n",
              "  <style>\n",
              "    .colab-df-container {\n",
              "      display:flex;\n",
              "      flex-wrap:wrap;\n",
              "      gap: 12px;\n",
              "    }\n",
              "\n",
              "    .colab-df-convert {\n",
              "      background-color: #E8F0FE;\n",
              "      border: none;\n",
              "      border-radius: 50%;\n",
              "      cursor: pointer;\n",
              "      display: none;\n",
              "      fill: #1967D2;\n",
              "      height: 32px;\n",
              "      padding: 0 0 0 0;\n",
              "      width: 32px;\n",
              "    }\n",
              "\n",
              "    .colab-df-convert:hover {\n",
              "      background-color: #E2EBFA;\n",
              "      box-shadow: 0px 1px 2px rgba(60, 64, 67, 0.3), 0px 1px 3px 1px rgba(60, 64, 67, 0.15);\n",
              "      fill: #174EA6;\n",
              "    }\n",
              "\n",
              "    [theme=dark] .colab-df-convert {\n",
              "      background-color: #3B4455;\n",
              "      fill: #D2E3FC;\n",
              "    }\n",
              "\n",
              "    [theme=dark] .colab-df-convert:hover {\n",
              "      background-color: #434B5C;\n",
              "      box-shadow: 0px 1px 3px 1px rgba(0, 0, 0, 0.15);\n",
              "      filter: drop-shadow(0px 1px 2px rgba(0, 0, 0, 0.3));\n",
              "      fill: #FFFFFF;\n",
              "    }\n",
              "  </style>\n",
              "\n",
              "      <script>\n",
              "        const buttonEl =\n",
              "          document.querySelector('#df-82475a80-111a-4ead-8eb5-b69f9b6dca85 button.colab-df-convert');\n",
              "        buttonEl.style.display =\n",
              "          google.colab.kernel.accessAllowed ? 'block' : 'none';\n",
              "\n",
              "        async function convertToInteractive(key) {\n",
              "          const element = document.querySelector('#df-82475a80-111a-4ead-8eb5-b69f9b6dca85');\n",
              "          const dataTable =\n",
              "            await google.colab.kernel.invokeFunction('convertToInteractive',\n",
              "                                                     [key], {});\n",
              "          if (!dataTable) return;\n",
              "\n",
              "          const docLinkHtml = 'Like what you see? Visit the ' +\n",
              "            '<a target=\"_blank\" href=https://colab.research.google.com/notebooks/data_table.ipynb>data table notebook</a>'\n",
              "            + ' to learn more about interactive tables.';\n",
              "          element.innerHTML = '';\n",
              "          dataTable['output_type'] = 'display_data';\n",
              "          await google.colab.output.renderOutput(dataTable, element);\n",
              "          const docLink = document.createElement('div');\n",
              "          docLink.innerHTML = docLinkHtml;\n",
              "          element.appendChild(docLink);\n",
              "        }\n",
              "      </script>\n",
              "    </div>\n",
              "  </div>\n",
              "  "
            ],
            "text/plain": [
              "                        Unnamed: 0    A00  B05      C      D     E    F45  \\\n",
              "0  Tanger -  Tetouan  - Al Hoceima  11891  840      0  28448  3778   6297   \n",
              "1                       L'Oriental   8185  175    569   3285  2846   5605   \n",
              "2                     Fs - Mekns  19672    0     14  10326  1106   5007   \n",
              "3          Rabat - Sal? - K?nitra   20128   70     11  13524  3342  12000   \n",
              "4         B?ni  Mellal - Kh?nifra   11727    0  15870   2509  1001   2629   \n",
              "\n",
              "     G00   H55    I00   J00    k00    L75    MNO    OP   I-S/Pt  \n",
              "0  12514  2790   3814  1765  14604   8983   8983  1535    15558  \n",
              "1   3280  1028   3330  1096   5705   5886   5386   409     8126  \n",
              "2   7214  2683   2940  2179   9753   7550  10356  1491    13117  \n",
              "3   9933  2535  17211  8507  21587  29585  12690  2971    18643  \n",
              "4   3714   849   1371   502   4872   4320   6293   759     6571  "
            ]
          },
          "execution_count": 4,
          "metadata": {},
          "output_type": "execute_result"
        }
      ],
      "source": [
        "# lire le fichier csv\n",
        "df=pd.read_csv(\"/content/dddd.csv\",delimiter=';')\n",
        "df.shape\n",
        "df.columns\n",
        "\n",
        "# df.info()\n",
        "df.head()\n",
        "# df[2:3]"
      ]
    },
    {
      "cell_type": "code",
      "execution_count": null,
      "metadata": {
        "id": "p88E2ACjnY6x"
      },
      "outputs": [],
      "source": [
        "df.describe()"
      ]
    },
    {
      "cell_type": "code",
      "execution_count": null,
      "metadata": {
        "id": "0xmC5NqAna81"
      },
      "outputs": [],
      "source": [
        "df.head(12)\n",
        "a=df[[\"A00\",\"B05\",\"C\",\"D\",\"E\",\"F45\",\"G00\",\" H55\",\"I00\",\"J00\",\"k00\",\"L75\",\"MNO\",\"OP\",\" I-S/Pt\"]]\n",
        "#df[\"A00\", \"B05\", \"C\", \"D\", \"E\", \"F45\", \"G00\",  \"H55\", \"I00\",\n",
        "      # \"J00\",\"k00\", \"L75\", \"MNO\", \"OP\",  \"I-S/Pt\"]"
      ]
    },
    {
      "cell_type": "code",
      "execution_count": null,
      "metadata": {
        "colab": {
          "base_uri": "https://localhost:8080/",
          "height": 265
        },
        "id": "E0fTUv-CdD0E",
        "outputId": "5bd11eb2-5f33-4e88-e15b-25a368246d89"
      },
      "outputs": [
        {
          "data": {
            "image/png": "[encoded data removed]",
            "text/plain": [
              "<Figure size 432x288 with 1 Axes>"
            ]
          },
          "metadata": {},
          "output_type": "display_data"
        }
      ],
      "source": [
        "df[\"B05\"].hist()\n",
        "plt.show()"
      ]
    },
    {
      "cell_type": "code",
      "execution_count": null,
      "metadata": {
        "colab": {
          "base_uri": "https://localhost:8080/"
        },
        "id": "01PM9j73dYDH",
        "outputId": "fcbac9d8-7722-4863-fa69-a4da8c72c6e4"
      },
      "outputs": [
        {
          "data": {
            "text/plain": [
              "(551841.1312620564, 154, 0.0)"
            ]
          },
          "execution_count": 69,
          "metadata": {},
          "output_type": "execute_result"
        }
      ],
      "source": [
        "\n",
        "# test de khi-2\n",
        "\n",
        "import seaborn as sns; sns.set()\n",
        "import matplotlib.pyplot as plt\n",
        "from scipy.stats import chi2_contingency\n",
        "chi2, pvalue, degrees, expected = chi2_contingency(a)\n",
        "chi2, degrees, pvalue\n"
      ]
    }
  ],
  "metadata": {
    "colab": {
      "provenance": []
    },
    "kernelspec": {
      "display_name": "Python 3",
      "name": "python3"
    }
  },
  "nbformat": 4,
  "nbformat_minor": 0
}